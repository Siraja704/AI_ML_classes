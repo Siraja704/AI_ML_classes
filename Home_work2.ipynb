{
 "cells": [
  {
   "cell_type": "markdown",
   "id": "5699d568",
   "metadata": {},
   "source": [
    "\n",
    "Use mean, median, and conditional logic to clean, analyze, and transform a real-world-like dataset.\n",
    "\n",
    "Department names repeat (e.g., \"IT\", \"HR\", \"Sales\")\n",
    "\n",
    "data = {\n",
    "    'Employee': ['Ali', 'Sara', 'Ahmed', 'Bilal', 'Hina', 'Usman', 'Zara', 'Raza', 'Maryam', 'Danish'],\n",
    "    'Department': ['IT', 'HR', 'IT', 'Sales', 'HR', 'Sales', 'IT', 'Sales', 'HR', 'IT'],\n",
    "    'Age': [25, np.nan, 28, 30, 26, np.nan, 31, 27, np.nan, 29],\n",
    "    'Salary': [55000, 48000, np.nan, 62000, 50000, np.nan, 58000, 61000, 49000, np.nan],\n",
    "    'Experience': [2, 3, 4, np.nan, 2, 5, np.nan, 6, 3, np.nan]\n",
    "}"
   ]
  },
  {
   "cell_type": "code",
   "execution_count": null,
   "id": "2c268ebe",
   "metadata": {
    "vscode": {
     "languageId": "plaintext"
    }
   },
   "outputs": [],
   "source": []
  },
  {
   "cell_type": "markdown",
   "id": "bf9323da",
   "metadata": {},
   "source": [
    " Compute Descriptive Stats\n",
    "\n",
    "Find mean, median, min, max, and std for all numeric columns.\n",
    "\n",
    "Store the results in a new DataFrame called summary."
   ]
  },
  {
   "cell_type": "code",
   "execution_count": null,
   "id": "291fd2fc",
   "metadata": {
    "vscode": {
     "languageId": "plaintext"
    }
   },
   "outputs": [],
   "source": []
  },
  {
   "cell_type": "markdown",
   "id": "cdab296f",
   "metadata": {},
   "source": [
    "Perform advanced filling:\n",
    "\n",
    "Fill Age using median by department\n",
    "(use groupby('Department')['Age'].transform('median'))\n",
    "\n",
    "Fill Salary using mean by department\n",
    "\n",
    "Fill Experience with the overall mean"
   ]
  },
  {
   "cell_type": "markdown",
   "id": "c4a9a601",
   "metadata": {},
   "source": []
  },
  {
   "cell_type": "code",
   "execution_count": null,
   "id": "2962fb3b",
   "metadata": {
    "vscode": {
     "languageId": "plaintext"
    }
   },
   "outputs": [],
   "source": [
    "Conditional Replacement\n",
    "\n",
    "If any salary is below 50000, replace it with the mean salary of its department\n",
    "\n",
    "If experience is less than 2 years, set it to 2"
   ]
  },
  {
   "cell_type": "markdown",
   "id": "4aba145f",
   "metadata": {},
   "source": []
  },
  {
   "cell_type": "code",
   "execution_count": null,
   "id": "8b850b34",
   "metadata": {
    "vscode": {
     "languageId": "plaintext"
    }
   },
   "outputs": [],
   "source": [
    "Add a New Column\n",
    "\n",
    "Create a new column called Performance_Score = (Experience * 10) + (Age / 2)\n",
    "\n",
    "Verification\n",
    "\n",
    "Check if any NaN remains.\n",
    "\n",
    "Print summary statistics again after cleaning."
   ]
  },
  {
   "cell_type": "code",
   "execution_count": null,
   "id": "417c8783",
   "metadata": {
    "vscode": {
     "languageId": "plaintext"
    }
   },
   "outputs": [],
   "source": []
  },
  {
   "cell_type": "markdown",
   "id": "f17db96d",
   "metadata": {},
   "source": [
    "Calculate average salary per department\n",
    "\n",
    "Find top 3 highest-paid employees\n",
    "\n",
    "Save the final cleaned DataFrame to a CSV file."
   ]
  }
 ],
 "metadata": {
  "language_info": {
   "name": "python"
  }
 },
 "nbformat": 4,
 "nbformat_minor": 5
}
