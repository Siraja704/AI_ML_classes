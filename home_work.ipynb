{
 "cells": [
  {
   "cell_type": "markdown",
   "id": "e509c386",
   "metadata": {},
   "source": [
    "Array Creation\n",
    "\n",
    "Create a 1D NumPy array with numbers from 10 to 100 (step 10).\n",
    "\n",
    "Create a 2D  matrix."
   ]
  },
  {
   "cell_type": "code",
   "execution_count": null,
   "id": "283f0790",
   "metadata": {
    "vscode": {
     "languageId": "plaintext"
    }
   },
   "outputs": [],
   "source": []
  },
  {
   "cell_type": "markdown",
   "id": "ab46555a",
   "metadata": {},
   "source": [
    "Given arr = np.array([5, 10, 15, 20, 25]):\n",
    "\n",
    "Find its mean, median, standard deviation.\n",
    "\n",
    "Multiply every element by 3.\n",
    "\n",
    "Filter values greater than 15."
   ]
  },
  {
   "cell_type": "code",
   "execution_count": null,
   "id": "9c699a1d",
   "metadata": {
    "vscode": {
     "languageId": "plaintext"
    }
   },
   "outputs": [],
   "source": []
  },
  {
   "cell_type": "markdown",
   "id": "098f6477",
   "metadata": {},
   "source": [
    "Make one matrix and Sort the matrix row-wise and column-wise."
   ]
  },
  {
   "cell_type": "code",
   "execution_count": null,
   "id": "1fbe2d26",
   "metadata": {
    "vscode": {
     "languageId": "plaintext"
    }
   },
   "outputs": [],
   "source": []
  },
  {
   "cell_type": "markdown",
   "id": "6aa06c1b",
   "metadata": {},
   "source": [
    "Load & Explore\n",
    "\n",
    "Load the CSV using Pandas.\n",
    "\n",
    "Show first 5 rows, shape, and column names."
   ]
  },
  {
   "cell_type": "code",
   "execution_count": null,
   "id": "dab28d14",
   "metadata": {
    "vscode": {
     "languageId": "plaintext"
    }
   },
   "outputs": [],
   "source": []
  },
  {
   "cell_type": "markdown",
   "id": "294f619e",
   "metadata": {},
   "source": [
    "\n",
    "Optional*\n",
    "\n",
    "Selection & Filtering\n",
    "\n",
    "Select only the Name and Marks columns.\n",
    "\n",
    "Show students with Marks > 80.\n",
    "\n",
    "Show students in Grade \"A\"."
   ]
  }
 ],
 "metadata": {
  "language_info": {
   "name": "python"
  }
 },
 "nbformat": 4,
 "nbformat_minor": 5
}
