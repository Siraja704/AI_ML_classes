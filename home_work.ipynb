{
 "cells": [
  {
   "cell_type": "markdown",
   "id": "e509c386",
   "metadata": {},
   "source": [
    "Array Creation\n",
    "\n",
    "Create a 1D NumPy array with numbers from 10 to 100 (step 10).\n",
    "\n",
    "Create a 2D  matrix."
   ]
  },
  {
   "cell_type": "code",
   "execution_count": 33,
   "id": "283f0790",
   "metadata": {},
   "outputs": [
    {
     "name": "stdout",
     "output_type": "stream",
     "text": [
      "[ 10  20  30  40  50  60  70  80  90 100]\n"
     ]
    },
    {
     "data": {
      "text/plain": [
       "(2, 3)"
      ]
     },
     "execution_count": 33,
     "metadata": {},
     "output_type": "execute_result"
    }
   ],
   "source": [
    "import numpy as np\n",
    "#1D\n",
    "arr = np.zeros(10,dtype=int)\n",
    "for i in range (len(arr)):\n",
    "\tarr[i] = (i + 1) * 10\n",
    "print(arr)\n",
    "#2D\n",
    "arrD= np.array([[1,2,3],[4,5,6]])\n",
    "arrD.shape"
   ]
  },
  {
   "cell_type": "markdown",
   "id": "ab46555a",
   "metadata": {},
   "source": [
    "Given arr = np.array([5, 10, 15, 20, 25]):\n",
    "\n",
    "Find its mean, median, standard deviation.\n",
    "\n",
    "Multiply every element by 3.\n",
    "\n",
    "Filter values greater than 15."
   ]
  },
  {
   "cell_type": "code",
   "execution_count": 34,
   "id": "9c699a1d",
   "metadata": {},
   "outputs": [
    {
     "name": "stdout",
     "output_type": "stream",
     "text": [
      "The mean is\n",
      "15\n",
      "The median is\n",
      "15\n",
      "Array x by 3:\n",
      "[15 30 45 60 75]\n",
      "Filtered array:\n",
      "[20 25]\n"
     ]
    }
   ],
   "source": [
    "#mean\n",
    "arr1 = np.array([5,10,15,20,25])\n",
    "count=arr1.size\n",
    "sum=0\n",
    "for i in range (len(arr1)):\n",
    "\tsum += arr1[i]\n",
    "    \n",
    "mean = sum//count\n",
    "print(\"The mean is\")\n",
    "print(mean)\n",
    "#median\n",
    "mid = count // 2\n",
    "median = arr1[mid]\n",
    "print(\"The median is\")\n",
    "print(median)\n",
    "# multiply by 3 \n",
    "for i in range (len(arr1)):\n",
    "\tarr1[i] = arr1[i] * 3\n",
    "print(\"Array x by 3:\")\n",
    "print(arr1)\n",
    "#filter greater than 15\n",
    "arr2 = np.array([5,10,15,20,25])\n",
    "indices = [] \n",
    "for i in range (len(arr2)):\n",
    "    if arr2[i] <= 15:\n",
    "        indices.append(i)\n",
    "        \n",
    "arr2= np.delete(arr2,indices)\n",
    "print(\"Filtered array:\")\n",
    "print(arr2)"
   ]
  },
  {
   "cell_type": "markdown",
   "id": "098f6477",
   "metadata": {},
   "source": [
    "Make one matrix and Sort the matrix row-wise and column-wise."
   ]
  },
  {
   "cell_type": "code",
   "execution_count": 35,
   "id": "3335f375",
   "metadata": {},
   "outputs": [
    {
     "name": "stdout",
     "output_type": "stream",
     "text": [
      "sorted array\n",
      "[[1 2 3]\n",
      " [4 5 6]]\n"
     ]
    }
   ],
   "source": [
    "arr3= np.array([[3,2,1],[6,5,4]])\n",
    "arr3 = np.sort(arr3)\n",
    "print(\"sorted array\")\n",
    "print(arr3)"
   ]
  },
  {
   "cell_type": "markdown",
   "id": "6aa06c1b",
   "metadata": {},
   "source": [
    "Load & Explore\n",
    "\n",
    "Load the CSV using Pandas.\n",
    "\n",
    "Show first 5 rows, shape, and column names."
   ]
  },
  {
   "cell_type": "code",
   "execution_count": 36,
   "id": "839f7a2b",
   "metadata": {},
   "outputs": [
    {
     "data": {
      "text/html": [
       "<div>\n",
       "<style scoped>\n",
       "    .dataframe tbody tr th:only-of-type {\n",
       "        vertical-align: middle;\n",
       "    }\n",
       "\n",
       "    .dataframe tbody tr th {\n",
       "        vertical-align: top;\n",
       "    }\n",
       "\n",
       "    .dataframe thead th {\n",
       "        text-align: right;\n",
       "    }\n",
       "</style>\n",
       "<table border=\"1\" class=\"dataframe\">\n",
       "  <thead>\n",
       "    <tr style=\"text-align: right;\">\n",
       "      <th></th>\n",
       "      <th>Id</th>\n",
       "      <th>SepalLengthCm</th>\n",
       "      <th>SepalWidthCm</th>\n",
       "      <th>PetalLengthCm</th>\n",
       "      <th>PetalWidthCm</th>\n",
       "      <th>Species</th>\n",
       "    </tr>\n",
       "  </thead>\n",
       "  <tbody>\n",
       "    <tr>\n",
       "      <th>0</th>\n",
       "      <td>1</td>\n",
       "      <td>5.1</td>\n",
       "      <td>3.5</td>\n",
       "      <td>1.4</td>\n",
       "      <td>0.2</td>\n",
       "      <td>Iris-setosa</td>\n",
       "    </tr>\n",
       "    <tr>\n",
       "      <th>1</th>\n",
       "      <td>2</td>\n",
       "      <td>4.9</td>\n",
       "      <td>3.0</td>\n",
       "      <td>1.4</td>\n",
       "      <td>0.2</td>\n",
       "      <td>Iris-setosa</td>\n",
       "    </tr>\n",
       "    <tr>\n",
       "      <th>2</th>\n",
       "      <td>3</td>\n",
       "      <td>4.7</td>\n",
       "      <td>3.2</td>\n",
       "      <td>1.3</td>\n",
       "      <td>0.2</td>\n",
       "      <td>Iris-setosa</td>\n",
       "    </tr>\n",
       "    <tr>\n",
       "      <th>3</th>\n",
       "      <td>4</td>\n",
       "      <td>4.6</td>\n",
       "      <td>3.1</td>\n",
       "      <td>1.5</td>\n",
       "      <td>0.2</td>\n",
       "      <td>Iris-setosa</td>\n",
       "    </tr>\n",
       "    <tr>\n",
       "      <th>4</th>\n",
       "      <td>5</td>\n",
       "      <td>5.0</td>\n",
       "      <td>3.6</td>\n",
       "      <td>1.4</td>\n",
       "      <td>0.2</td>\n",
       "      <td>Iris-setosa</td>\n",
       "    </tr>\n",
       "  </tbody>\n",
       "</table>\n",
       "</div>"
      ],
      "text/plain": [
       "   Id  SepalLengthCm  SepalWidthCm  PetalLengthCm  PetalWidthCm      Species\n",
       "0   1            5.1           3.5            1.4           0.2  Iris-setosa\n",
       "1   2            4.9           3.0            1.4           0.2  Iris-setosa\n",
       "2   3            4.7           3.2            1.3           0.2  Iris-setosa\n",
       "3   4            4.6           3.1            1.5           0.2  Iris-setosa\n",
       "4   5            5.0           3.6            1.4           0.2  Iris-setosa"
      ]
     },
     "execution_count": 36,
     "metadata": {},
     "output_type": "execute_result"
    }
   ],
   "source": [
    "#first five rows\n",
    "import pandas as pd\n",
    "df = pd.read_csv(\"Iris 2.csv\")\n",
    "df.head(5)"
   ]
  },
  {
   "cell_type": "code",
   "execution_count": 37,
   "id": "372a2de7",
   "metadata": {},
   "outputs": [
    {
     "data": {
      "text/plain": [
       "(150, 6)"
      ]
     },
     "execution_count": 37,
     "metadata": {},
     "output_type": "execute_result"
    }
   ],
   "source": [
    "#shape\n",
    "df.shape"
   ]
  },
  {
   "cell_type": "code",
   "execution_count": 38,
   "id": "dc04bb2c",
   "metadata": {},
   "outputs": [
    {
     "data": {
      "text/plain": [
       "Index(['Id', 'SepalLengthCm', 'SepalWidthCm', 'PetalLengthCm', 'PetalWidthCm',\n",
       "       'Species'],\n",
       "      dtype='object')"
      ]
     },
     "execution_count": 38,
     "metadata": {},
     "output_type": "execute_result"
    }
   ],
   "source": [
    "#return column names\n",
    "df.columns"
   ]
  },
  {
   "cell_type": "code",
   "execution_count": 39,
   "id": "dab28d14",
   "metadata": {},
   "outputs": [
    {
     "data": {
      "text/plain": [
       "['Id',\n",
       " 'SepalLengthCm',\n",
       " 'SepalWidthCm',\n",
       " 'PetalLengthCm',\n",
       " 'PetalWidthCm',\n",
       " 'Species']"
      ]
     },
     "execution_count": 39,
     "metadata": {},
     "output_type": "execute_result"
    }
   ],
   "source": [
    "#or \n",
    "df.columns.tolist()\n"
   ]
  },
  {
   "cell_type": "markdown",
   "id": "294f619e",
   "metadata": {},
   "source": [
    "\n",
    "Optional*\n",
    "\n",
    "Selection & Filtering\n",
    "\n",
    "Select only the Name and Marks columns.\n",
    "\n",
    "Show students with Marks > 80.\n",
    "\n",
    "Show students in Grade \"A\"."
   ]
  },
  {
   "cell_type": "code",
   "execution_count": null,
   "id": "63db4659",
   "metadata": {},
   "outputs": [
    {
     "name": "stdout",
     "output_type": "stream",
     "text": [
      "   Name  Marks\n",
      "0   Ali     85\n",
      "1  Sara     72\n",
      "2  Omar     90\n",
      "3  Hina     60\n"
     ]
    }
   ],
   "source": [
    "#NAMES N COLUMNS\n",
    "ef = pd.read_csv(\"students.csv\")\n",
    "print(ef[[\"Name\", \"Marks\"]])"
   ]
  },
  {
   "cell_type": "code",
   "execution_count": null,
   "id": "8b47018d",
   "metadata": {},
   "outputs": [
    {
     "name": "stdout",
     "output_type": "stream",
     "text": [
      "   Name\n",
      "0   Ali\n",
      "2  Omar\n"
     ]
    }
   ],
   "source": [
    "#Stu w grade A\n",
    "reqstudents =  ef[ef[\"Grade\"] == 'A']\n",
    "print(reqstudents[[\"Name\"]])\n"
   ]
  },
  {
   "cell_type": "code",
   "execution_count": null,
   "id": "54120a5e",
   "metadata": {},
   "outputs": [
    {
     "name": "stdout",
     "output_type": "stream",
     "text": [
      "0     Ali\n",
      "2    Omar\n",
      "Name: Name, dtype: object\n"
     ]
    }
   ],
   "source": [
    "#Marks more than 80\n",
    "req2 = ef [ef [\"Marks\"] > 80 ]\n",
    "print(req2[\"Name\"])"
   ]
  }
 ],
 "metadata": {
  "kernelspec": {
   "display_name": ".venv",
   "language": "python",
   "name": "python3"
  },
  "language_info": {
   "codemirror_mode": {
    "name": "ipython",
    "version": 3
   },
   "file_extension": ".py",
   "mimetype": "text/x-python",
   "name": "python",
   "nbconvert_exporter": "python",
   "pygments_lexer": "ipython3",
   "version": "3.13.7"
  }
 },
 "nbformat": 4,
 "nbformat_minor": 5
}
